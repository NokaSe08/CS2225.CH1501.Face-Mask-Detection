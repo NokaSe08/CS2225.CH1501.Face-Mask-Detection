{
  "nbformat": 4,
  "nbformat_minor": 0,
  "metadata": {
    "colab": {
      "name": "GroupIntro.ipynb",
      "provenance": [],
      "collapsed_sections": [],
      "authorship_tag": "ABX9TyNZVOs/zbRWng3rRbFPuSEm",
      "include_colab_link": true
    },
    "kernelspec": {
      "name": "python3",
      "display_name": "Python 3"
    }
  },
  "cells": [
    {
      "cell_type": "markdown",
      "metadata": {
        "id": "view-in-github",
        "colab_type": "text"
      },
      "source": [
        "<a href=\"https://colab.research.google.com/github/danhph/CS2225.CH1501.Face-Mask-Detection/blob/master/GroupIntro.ipynb\" target=\"_parent\"><img src=\"https://colab.research.google.com/assets/colab-badge.svg\" alt=\"Open In Colab\"/></a>"
      ]
    },
    {
      "cell_type": "markdown",
      "metadata": {
        "id": "NXw_mFNJPjXR",
        "colab_type": "text"
      },
      "source": [
        "# CS2225.NHẬN DẠNG THỊ GIÁC VÀ ỨNG DỤNG\n",
        "\n",
        "Đồ án cuối kỳ: **ĐẾM SỐ LƯỢNG NGƯỜI LÊN XUỐNG XE BUS**  \n",
        "\n",
        "Lớp: CS2225.CH1501  \n",
        "\n",
        "Nhóm N024: \n",
        "1. CH1901017 - [Phạm Hữu Danh](mailto:danhph.14@grad.uit.edu.vn)\n",
        "2. CH1901020 - [Nguyễn Trung Hiếu](mailto:hieunt.14@grad.uit.edu.vn)\n",
        "\n",
        "\n",
        "## 1. Mô tả đồ án\n",
        "\n",
        "Input: ảnh chụp cửa lên xuống xe bus  \n",
        "Output: số lượng người in/out  \n",
        "Ứng dụng: Hỗ trợ trong trường hợp bỏ rơi trẻ em trên xe bus  "
      ]
    }
  ]
}